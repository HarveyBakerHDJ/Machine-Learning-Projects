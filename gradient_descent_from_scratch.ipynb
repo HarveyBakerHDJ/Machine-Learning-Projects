{
 "cells": [
  {
   "cell_type": "markdown",
   "id": "5c1db4bb-6bf3-45fc-8e49-25ec25f7e317",
   "metadata": {},
   "source": [
    "## Import Libraries"
   ]
  },
  {
   "cell_type": "code",
   "execution_count": null,
   "id": "fd1fd163-59d0-4446-a10d-522b95f7db9e",
   "metadata": {},
   "outputs": [],
   "source": [
    "%matplotlib inline\n",
    "\n",
    "from ipywidgets import interactive\n",
    "import numpy as np\n",
    "import matplotlib.pyplot as plt\n",
    "from mpl_toolkits import mplot3d"
   ]
  },
  {
   "cell_type": "markdown",
   "id": "fc1be0e3-c3fa-48d2-b954-b3ecafed3971",
   "metadata": {},
   "source": [
    "## Function Main"
   ]
  },
  {
   "cell_type": "markdown",
   "id": "fc14dbbc-e777-49dc-a739-1ea3421e17a4",
   "metadata": {},
   "source": [
    "#### Defining parameters"
   ]
  },
  {
   "cell_type": "code",
   "execution_count": null,
   "id": "41770eca-d97d-4dad-b1c8-6e60c1f9dd06",
   "metadata": {},
   "outputs": [],
   "source": [
    "# / z function block\n",
    "def z_function(x, y): # defines our z function and to take two arguments\n",
    "    return np.sin(5 * x) * np.cos(5 * y) / 5 # returns a complex function of x and y\n",
    "\n",
    "# / calculate gradient block\n",
    "def calculate_gradient(x, y): # defines calculate gradient to take two arguments\n",
    "    return np.cos(5 * x) * np.cos(5 * y), -np.sin(5 * x) * np.sin(5 * y) # returns derivatives with respect to both x and y \n",
    "\n",
    "# / generate example x and y values\n",
    "x = np.arange(-1, 1, 0.05) # creates a numpy array of values in 0.05 step sizes from -1 to 1 \n",
    "y = np.arange(-1, 1, 0.05) # creates a numpy array of values in 0.05 step sizes from -1 to 1 \n",
    "\n",
    "# / creating coordinates grid\n",
    "X, Y = np.meshgrid(x, y) # outputs a new array where each column in our inputted 1D array\n",
    "\n",
    "# / Z value\n",
    "Z = z_function(X, Y) # creates new Z variable calling the z_function function onto our 2D X, Y meshgrid\n",
    "\n",
    "# / intialize current position / co - ordinates\n",
    "current_pos = (0.7, 0.4, z_function(0.7, 0.4)) \n",
    "\n",
    "# / intialize hyper parameter\n",
    "learning_rate = 0.01 # controls the step size 'we' move in "
   ]
  },
  {
   "cell_type": "markdown",
   "id": "d8a9fc4c-c759-4617-9059-4c64bda27957",
   "metadata": {},
   "source": [
    "## Visualising Gradient Descent"
   ]
  },
  {
   "cell_type": "code",
   "execution_count": null,
   "id": "855da67d-f7ea-4111-a31b-1b268f950753",
   "metadata": {},
   "outputs": [],
   "source": [
    "# / figure layout block\n",
    "fig = plt.figure() # creates a matplotlib figure as 'fig'\n",
    "ax = fig.add_subplot(111, projection='3d') # adds a 3d subplot to 'fig'\n",
    "\n",
    "# / plotting surface\n",
    "ax.plot_surface(X, Y, Z, cmap='viridis', zorder=0) # takes arguments X, Y, Z and specfies styling\n",
    "\n",
    "# / adding scatter plot\n",
    "scat = ax.scatter(current_pos[0], current_pos[1], current_pos[2], color='magenta', zorder=1) # creates our 'ball' \n",
    "\n",
    "# / gradient descent loop\n",
    "for _ in range(1000): # runs 1000 times\n",
    "    X_derivative, Y_derivative = calculate_gradient(current_pos[0], current_pos[1]) # computes the partial derivatives (gradient) with respect to X and Y\n",
    "    X_new, Y_new = current_pos[0] - learning_rate * X_derivative, current_pos[1] - learning_rate * Y_derivative # updates the current position by moving in opposite direction of the gradient \n",
    "    current_pos = (X_new, Y_new, z_function(X_new, Y_new)) # sets the new positions co-ordinates by calling the z_function onto the new X and Y co-ordinates\n",
    "\n",
    "    scat.remove()\n",
    "    scat = ax.scatter(current_pos[0], current_pos[1], current_pos[2], color='magenta', zorder=1)\n",
    "    \n",
    "    plt.draw()\n",
    "    plt.pause(0.01)\n",
    "\n",
    "plt.show()"
   ]
  },
  {
   "cell_type": "code",
   "execution_count": null,
   "id": "a879333f-0565-4818-921d-135baac01a2c",
   "metadata": {},
   "outputs": [],
   "source": []
  }
 ],
 "metadata": {
  "kernelspec": {
   "display_name": "Python 3 (ipykernel)",
   "language": "python",
   "name": "python3"
  },
  "language_info": {
   "codemirror_mode": {
    "name": "ipython",
    "version": 3
   },
   "file_extension": ".py",
   "mimetype": "text/x-python",
   "name": "python",
   "nbconvert_exporter": "python",
   "pygments_lexer": "ipython3",
   "version": "3.12.3"
  }
 },
 "nbformat": 4,
 "nbformat_minor": 5
}
