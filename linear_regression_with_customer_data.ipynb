{
 "cells": [
  {
   "cell_type": "markdown",
   "id": "24fc7449-b456-43bc-8178-068ef7f2cbad",
   "metadata": {},
   "source": [
    "### Goal"
   ]
  },
  {
   "cell_type": "code",
   "execution_count": null,
   "id": "9394afcd-cb29-4080-8798-6e894c2acce3",
   "metadata": {},
   "outputs": [],
   "source": [
    "# 1 - analyse the correlation of X variables with the y output (purchase amount)\n",
    "# 2 - implement simple linear regression model with multiple variables  "
   ]
  },
  {
   "cell_type": "code",
   "execution_count": null,
   "id": "ec75e46d-80bb-4145-a23d-10f5a895997b",
   "metadata": {},
   "outputs": [],
   "source": [
    "# this model will use the 'customer purhcase behaviour' dataset from Kaggle"
   ]
  },
  {
   "cell_type": "markdown",
   "id": "e25f1c00-8d2b-4fbf-9886-8be2d14b4f43",
   "metadata": {},
   "source": [
    "### Importing Modules"
   ]
  },
  {
   "cell_type": "code",
   "execution_count": null,
   "id": "ab0da5b8-184f-4971-9116-0d3e679d566f",
   "metadata": {},
   "outputs": [],
   "source": [
    "%matplotlib inline"
   ]
  },
  {
   "cell_type": "code",
   "execution_count": null,
   "id": "62067cbf-58f0-4567-9122-5a399489b6b9",
   "metadata": {},
   "outputs": [],
   "source": [
    "import numpy as np\n",
    "import pandas as pd \n",
    "import matplotlib.pyplot as plt \n",
    "from mpl_toolkits.mplot3d import Axes3D\n",
    "import seaborn as sns"
   ]
  },
  {
   "cell_type": "markdown",
   "id": "10a7126f-36f2-4fed-8bae-751d0f180c8f",
   "metadata": {},
   "source": [
    "### Importing Data"
   ]
  },
  {
   "cell_type": "code",
   "execution_count": null,
   "id": "e3db9599-43c9-480c-bac9-3a0f5397fe7a",
   "metadata": {},
   "outputs": [],
   "source": [
    "# / import data to a pandas dataframe\n",
    "df = pd.read_csv(r'C:\\Users\\44734\\OneDrive\\Desktop\\Python Practice\\Data Sets\\cpb.csv') # pulls data from directory\n",
    "df # displays dataframe"
   ]
  },
  {
   "cell_type": "markdown",
   "id": "b24cf244-80be-4a93-a5e0-0ee04ea83306",
   "metadata": {},
   "source": [
    "## Data Preparation"
   ]
  },
  {
   "cell_type": "code",
   "execution_count": null,
   "id": "1e617f57-04ba-432b-8365-86fee5e0acb0",
   "metadata": {},
   "outputs": [],
   "source": [
    "df.info # provides a summary of the dataframe"
   ]
  },
  {
   "cell_type": "code",
   "execution_count": null,
   "id": "4ede7b97-f07b-4bff-9dc1-bb9dd7063e41",
   "metadata": {},
   "outputs": [],
   "source": [
    "# / remove empty data\n",
    "df.dropna(inplace=True) # removes all NaN values"
   ]
  },
  {
   "cell_type": "code",
   "execution_count": null,
   "id": "cf117d06-b758-460a-b74b-193c306a1bd8",
   "metadata": {},
   "outputs": [],
   "source": [
    "# / remove and store user ids\n",
    "user_ids = df.drop(['age','annual_income','purchase_amount','loyalty_score','region','purchase_frequency'], axis = 1) # creates new dataframe for our user_ids \n",
    "df = df.drop(['user_id'], axis = 1) # creates a new dataframe without our user_ids column"
   ]
  },
  {
   "cell_type": "code",
   "execution_count": null,
   "id": "fa81a1ff-63ed-4e8b-82d1-ff240872091e",
   "metadata": {},
   "outputs": [],
   "source": [
    "# / remove the discrete / string values from the dataframe\n",
    "df = df.drop(['region'], axis =1) # removes string format data"
   ]
  },
  {
   "cell_type": "markdown",
   "id": "7a36a107-7b22-4ed1-b3a9-641ff5be6669",
   "metadata": {},
   "source": [
    "#### Correlation Analysis"
   ]
  },
  {
   "cell_type": "code",
   "execution_count": null,
   "id": "8f44f93f-58f1-439d-829c-bc1e92957447",
   "metadata": {},
   "outputs": [],
   "source": [
    "# displays a matrix with correlation values between X variables \n",
    "df.corr()"
   ]
  },
  {
   "cell_type": "code",
   "execution_count": null,
   "id": "f7b2ba5a-76ef-4600-837f-f91bce7eac8e",
   "metadata": {},
   "outputs": [],
   "source": [
    "# the correlation matrix explains that the highest variable correlated to 'purchase amount' is 'loyalty score', closely followed by all 3 other \n",
    "# variables"
   ]
  },
  {
   "cell_type": "markdown",
   "id": "4061624c-99fd-48a6-b183-c47db431a8d4",
   "metadata": {},
   "source": [
    "#### Test / Train Split"
   ]
  },
  {
   "cell_type": "code",
   "execution_count": null,
   "id": "d9a3d32d-9211-4f21-b8de-c09c04c1a8a0",
   "metadata": {},
   "outputs": [],
   "source": [
    "# import module\n",
    "from sklearn.model_selection import train_test_split"
   ]
  },
  {
   "cell_type": "code",
   "execution_count": null,
   "id": "7f8f395e-1c8f-4357-bacc-6781582109b6",
   "metadata": {},
   "outputs": [],
   "source": [
    "# / create separate X_train and y_train variables\n",
    "# assigns the training data into two separate (df)s\n",
    "X1 = df.drop(['purchase_amount'], axis=1) # all input variables\n",
    "y1 = df['purchase_amount'] # target variable"
   ]
  },
  {
   "cell_type": "code",
   "execution_count": null,
   "id": "d23a001e-d3cc-41c0-92d9-bb56ab775498",
   "metadata": {},
   "outputs": [],
   "source": [
    "# / splits into testing & training for both X and y \n",
    "X1_train, X1_test, y1_train, y1_test = train_test_split(X1, y1, test_size=0.25) # 25% of dataset is testing data"
   ]
  },
  {
   "cell_type": "code",
   "execution_count": null,
   "id": "67f563a0-063a-486e-a619-139c202880c3",
   "metadata": {},
   "outputs": [],
   "source": [
    "# / ensures they only contain correct input or target variables\n",
    "X1_train, y1_train = df.drop(['purchase_amount'], axis = 1), df['purchase_amount']\n",
    "X1_train, y1_train"
   ]
  },
  {
   "cell_type": "markdown",
   "id": "e4ed5410-a04f-4f65-ba21-73c1a2c68d58",
   "metadata": {},
   "source": [
    "## Simple Linear Regression"
   ]
  },
  {
   "cell_type": "code",
   "execution_count": null,
   "id": "9b865519-6080-400a-9e30-3acadfea6ee1",
   "metadata": {},
   "outputs": [],
   "source": [
    "# / sklearn model\n",
    "from sklearn.linear_model import LinearRegression # imports the linear regression class"
   ]
  },
  {
   "cell_type": "code",
   "execution_count": null,
   "id": "d60814ee-e6c7-4a5e-866e-62226990d039",
   "metadata": {},
   "outputs": [],
   "source": [
    "# / define the model within a variable\n",
    "model1 = LinearRegression() # assigns it to 'model1'"
   ]
  },
  {
   "cell_type": "markdown",
   "id": "d1d8595f-6243-4112-a958-47b97f957bb2",
   "metadata": {},
   "source": [
    "#### Fitting the Model"
   ]
  },
  {
   "cell_type": "code",
   "execution_count": null,
   "id": "4c48a3df-2dd3-44cd-bf05-c868e7b4942c",
   "metadata": {},
   "outputs": [],
   "source": [
    "model1.fit(X1_train, y1_train) # fits linear regression model to our training data"
   ]
  },
  {
   "cell_type": "code",
   "execution_count": null,
   "id": "1706a2d1-6740-404a-a19e-e8fe0e2dc9cd",
   "metadata": {},
   "outputs": [],
   "source": [
    "LR_line = model1.predict(X1_train) # creates a regression line for later use in our plots, predicts based on target variable"
   ]
  },
  {
   "cell_type": "markdown",
   "id": "f38df67d-b8c7-44c0-8bc2-01a9f9019765",
   "metadata": {},
   "source": [
    "#### Visualise the Models"
   ]
  },
  {
   "cell_type": "code",
   "execution_count": null,
   "id": "4688df40-72d4-49bd-8379-4305ea280439",
   "metadata": {},
   "outputs": [],
   "source": [
    "# / chart blocks\n",
    "# loyalty score and purchase amount\n",
    "sns.lmplot(x=\"loyalty_score\", y=\"purchase_amount\", data=df) \n",
    "plt.xlabel(\"Loyalty Score\")\n",
    "plt.ylabel(\"Purchase Amount\")\n",
    "plt.title(\"Linear Regression: X vs. y\")\n",
    "plt.show()\n",
    "\n",
    "# age and purchase amount\n",
    "sns.lmplot(x=\"age\", y=\"purchase_amount\", data=df) \n",
    "plt.xlabel(\"Age\")\n",
    "plt.ylabel(\"Purchase Amount\")\n",
    "plt.title(\"Linear Regression: X vs. y\")\n",
    "plt.show()\n",
    "\n",
    "# purchase frequency\n",
    "sns.lmplot(x=\"purchase_frequency\", y=\"purchase_amount\", data=df) \n",
    "plt.xlabel(\"Purchase Frequency\")\n",
    "plt.ylabel(\"Purchase Amount\")\n",
    "plt.title(\"Linear Regression: X vs. y\")\n",
    "plt.show()\n",
    "\n",
    "# annual income and purchase amount\n",
    "sns.lmplot(x=\"annual_income\", y=\"purchase_amount\", data=df) \n",
    "plt.xlabel(\"Annual Income\")\n",
    "plt.ylabel(\"Purchase Amount\")\n",
    "plt.title(\"Linear Regression: X vs. y\")\n",
    "plt.show()"
   ]
  }
 ],
 "metadata": {
  "kernelspec": {
   "display_name": "Python 3 (ipykernel)",
   "language": "python",
   "name": "python3"
  },
  "language_info": {
   "codemirror_mode": {
    "name": "ipython",
    "version": 3
   },
   "file_extension": ".py",
   "mimetype": "text/x-python",
   "name": "python",
   "nbconvert_exporter": "python",
   "pygments_lexer": "ipython3",
   "version": "3.12.3"
  }
 },
 "nbformat": 4,
 "nbformat_minor": 5
}
